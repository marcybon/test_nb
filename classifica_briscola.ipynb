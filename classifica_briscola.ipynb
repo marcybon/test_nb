{
  "metadata": {
    "kernelspec": {
      "name": "python",
      "display_name": "Python (Pyodide)",
      "language": "python"
    },
    "language_info": {
      "codemirror_mode": {
        "name": "python",
        "version": 3
      },
      "file_extension": ".py",
      "mimetype": "text/x-python",
      "name": "python",
      "nbconvert_exporter": "python",
      "pygments_lexer": "ipython3",
      "version": "3.8"
    },
    "colab": {
      "provenance": []
    }
  },
  "nbformat_minor": 5,
  "nbformat": 4,
  "cells": [
    {
      "id": "d131ac42-6d47-4498-9e88-d9a001123d76",
      "cell_type": "code",
      "source": [
        "def calcola_classifica(partite):\n",
        "    # Dizionario per i punteggi dei giocatori\n",
        "    punteggi = {}\n",
        "\n",
        "    # Calcolo dei punteggi\n",
        "    for data, risultato, giocatori in partite:\n",
        "        if risultato == \"W\":\n",
        "            punteggi[giocatori[0]] = punteggi.get(giocatori[0], 0) + 2  # p1\n",
        "            punteggi[giocatori[1]] = punteggi.get(giocatori[1], 0) + 1  # p2\n",
        "            for p in giocatori[2:]:  # p3, p4, p5\n",
        "                punteggi[p] = punteggi.get(p, 0) - 1\n",
        "        if risultato == \"L\":\n",
        "            punteggi[giocatori[0]] = punteggi.get(giocatori[0], 0) - 2  # p1\n",
        "            punteggi[giocatori[1]] = punteggi.get(giocatori[1], 0) - 1  # p2\n",
        "            for p in giocatori[2:]:  # p3, p4, p5\n",
        "                punteggi[p] = punteggi.get(p, 0) + 1\n",
        "        if risultato == \"Wm\":\n",
        "            punteggi[giocatori[0]] = punteggi.get(giocatori[0], 0) + 4 # p1\n",
        "            for p in giocatori[1:]:  # p2, p3, p4, p5\n",
        "                punteggi[p] = punteggi.get(p, 0) - 1\n",
        "        if risultato == \"Lm\":\n",
        "            punteggi[giocatori[0]] = punteggi.get(giocatori[0], 0) - 4 # p1\n",
        "            for p in giocatori[1:]: # p2, p3, p4, p5\n",
        "                punteggi[p] = punteggi.get(p, 0) + 1\n",
        "        if risultato == \"Wv\":\n",
        "            punteggi[giocatori[0]] = punteggi.get(giocatori[0], 0) + 4  # p1\n",
        "            punteggi[giocatori[1]] = punteggi.get(giocatori[1], 0) + 2  # p2\n",
        "            for p in giocatori[2:]:  # p3, p4, p5\n",
        "                punteggi[p] = punteggi.get(p, 0) - 2\n",
        "        if risultato == \"Lv\":\n",
        "            punteggi[giocatori[0]] = punteggi.get(giocatori[0], 0) - 4  # p1\n",
        "            punteggi[giocatori[1]] = punteggi.get(giocatori[1], 0) - 2  # p2\n",
        "            for p in giocatori[2:]:  # p3, p4, p5\n",
        "                punteggi[p] = punteggi.get(p, 0) + 2\n",
        "\n",
        "    # Ordinamento della classifica\n",
        "    classifica = sorted(punteggi.items(), key=lambda x: x[1], reverse=True)\n",
        "    return punteggi, classifica\n",
        "\n",
        "\n",
        "def parse_partite(raw_data):\n",
        "    \"\"\"\n",
        "    Converte i dati delle partite scritti senza parentesi e virgolette in una lista di tuple utilizzabile.\n",
        "    \"\"\"\n",
        "    partite = []\n",
        "    for riga in raw_data.strip().split(\"\\n\"):\n",
        "        elementi = riga.split()\n",
        "        data = f\"{elementi[0]} {elementi[1]}\"  # Combina giorno e mese\n",
        "        risultato = elementi[2]  # Risultato (W, L, Wm, Lm)\n",
        "        giocatori = elementi[3:]  # Lista di giocatori\n",
        "        partite.append((data, risultato, giocatori))\n",
        "    return partite\n",
        "\n",
        "\n",
        "# Esempio di utilizzo\n",
        "raw_data = \"\"\"\n",
        "7 gen W Donato Marc Luca Ferro Scalzo\n",
        "7 gen W Donato Bond Luca Ferro Scalzo\n",
        "7 gen L Bond Scalzo Ferro Luca Marc\n",
        "8 gen L Donato Kate Ferro Luca Marc\n",
        "8 gen W Kate Marc Ferro Luca Donato\n",
        "8 gen W Ferro Luca Marc Kate Donato\n",
        "10 gen L Vitto Scalzo Luca Donato Kate\n",
        "10 gen W Luca Donato Kate Vitto Scalzo\n",
        "10 gen W Vitto Donato Kate Luca Scalzo\n",
        "10 gen W Scalzo Kate Vitto Donato Luca\n",
        "10 gen L Kate Luca Scalzo Vitto Donato\n",
        "13 gen W Luca Scalzo Marc Massi Vitto\n",
        "13 gen L Bond Vitto Marc Massi Scalzo\n",
        "13 gen Lm Scalzo Bond Vitto Luca Massi\n",
        "13 gen W Marc Vitto Scalzo Bond Massi\n",
        "15 gen L Bond Ferro Vitto Donato Marc\n",
        "15 gen W Marc Vitto Ferro Donato Bond\n",
        "15 gen L Vitto Ferro Donato Marc Bond\n",
        "17 gen W Donato Kate Ferro Vitto Scalzo\n",
        "17 gen L Kate Vitto Marc Ferro Scalzo\n",
        "17 gen L Ferro Vitto Marc Donato Kate\n",
        "20 gen W Vitto Scalzo Marc Bond Luca\n",
        "\"\"\"\n",
        "\n",
        "# Parsing delle partite\n",
        "partite = parse_partite(raw_data)\n",
        "#print(partite[5][2])\n",
        "\n",
        "# Calcolo della classifica\n",
        "punteggi, classifica = calcola_classifica(partite)\n",
        "#print(list(punteggi))\n",
        "#print(list(classifica))\n",
        "\n",
        "print(\"Classifica aggiornata al 20 gennaio 2025:\")\n",
        "for giocatore, punteggio in classifica:\n",
        "    print(f\"{giocatore}: {punteggio}\")"
      ],
      "metadata": {
        "trusted": true,
        "jupyter": {
          "source_hidden": true
        },
        "id": "d131ac42-6d47-4498-9e88-d9a001123d76",
        "outputId": "df44bef0-2a4f-4ebd-e35b-44ebefd5a853",
        "colab": {
          "base_uri": "https://localhost:8080/"
        }
      },
      "outputs": [
        {
          "output_type": "stream",
          "name": "stdout",
          "text": [
            "Classifica aggiornata al 20 gennaio 2025:\n",
            "Marc: 10\n",
            "Donato: 7\n",
            "Luca: 2\n",
            "Massi: 0\n",
            "Kate: -2\n",
            "Vitto: -2\n",
            "Ferro: -4\n",
            "Scalzo: -5\n",
            "Bond: -6\n"
          ]
        }
      ],
      "execution_count": null
    }
  ]
}
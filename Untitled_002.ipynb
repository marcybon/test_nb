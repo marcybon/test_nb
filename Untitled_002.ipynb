{
  "nbformat": 4,
  "nbformat_minor": 0,
  "metadata": {
    "colab": {
      "provenance": []
    },
    "kernelspec": {
      "name": "python3",
      "display_name": "Python 3"
    },
    "language_info": {
      "name": "python"
    }
  },
  "cells": [
    {
      "cell_type": "markdown",
      "source": [
        "Legge dati da un file generato da Google Form, trasforma dati leggibili da calcola_classifica e restituisce la classifica"
      ],
      "metadata": {
        "id": "tuEbLpr8Jeyo"
      }
    },
    {
      "cell_type": "code",
      "execution_count": 13,
      "metadata": {
        "id": "3gRMJcusnDzw"
      },
      "outputs": [],
      "source": [
        "#from google.colab import drive\n",
        "#drive.mount('/content/drive')"
      ]
    },
    {
      "cell_type": "code",
      "source": [
        "#cd content/drive/MyDrive/Documenti/Google \\Sheets \\& \\Forms"
      ],
      "metadata": {
        "id": "MwOfAIb_nsSH"
      },
      "execution_count": 14,
      "outputs": []
    },
    {
      "cell_type": "code",
      "source": [
        "#ll"
      ],
      "metadata": {
        "id": "TOtssFAinv4W"
      },
      "execution_count": 15,
      "outputs": []
    },
    {
      "cell_type": "code",
      "source": [
        "import pandas as pd\n",
        "url = 'https://docs.google.com/spreadsheets/d/1oq5L7FXNdFja8jHU0XaSpbU_e_NPeiuqj5YYucvDxvk/export?format=csv'\n",
        "df = pd.read_csv(url, header=None)\n",
        "#df.to_csv('data.csv', index=False) # Non serve, è già un .csv\n",
        "#print(df.head())\n",
        "for riga in df.values:\n",
        "  print(riga)"
      ],
      "metadata": {
        "colab": {
          "base_uri": "https://localhost:8080/"
        },
        "id": "WJddDJI7pKPP",
        "outputId": "91cbe3bc-28e5-44dd-b14e-20eb0a03f668"
      },
      "execution_count": 18,
      "outputs": [
        {
          "output_type": "stream",
          "name": "stdout",
          "text": [
            "['Informazioni cronologiche' 'Giaguaro:' 'È stato chiamato:'\n",
            " 'Altri giocatori:' 'Ha vinto:' 'Indirizzo email' 'Data partita:']\n",
            "['15/01/2025 9.13.09' 'Donato' 'Marc' 'Ferro, Luca, Erri'\n",
            " 'Giaguaro & amico' 'marcello.bonomo.8@gmail.com' '07/01/2025']\n",
            "['15/01/2025 9.14.26' 'Donato' 'Bond' 'Ferro, Luca, Erri'\n",
            " 'Giaguaro & amico' 'marcello.bonomo.8@gmail.com' '07/01/2025']\n",
            "['15/01/2025 9.15.28' 'Bond' 'Erri' 'Ferro, Luca, Marc' 'Gli altri'\n",
            " 'marcello.bonomo.8@gmail.com' '07/01/2025']\n",
            "['15/01/2025 12.21.10' 'Donato' 'Kate' 'Ferro, Luca, Marc' 'Gli altri'\n",
            " 'marcello.bonomo.8@gmail.com' '08/01/2025']\n",
            "[nan 'Kate' 'Marc' 'Ferro, Luca, Donato' 'Giaguaro & amico' nan\n",
            " '08/01/2025']\n",
            "[nan 'Ferro' 'Luca' 'Marc, Kate, Donato' 'Giaguaro & amico' nan\n",
            " '08/01/2025']\n",
            "[nan 'Vitto' 'Erri' 'Luca, Donato, Kate' 'Gli altri' nan '10/01/2025']\n",
            "[nan 'Luca' 'Donato' 'Kate, Vitto, Erri' 'Giaguaro & amico' nan\n",
            " '10/01/2025']\n",
            "[nan 'Vitto' 'Donato' 'Kate, Luca, Erri' 'Giaguaro & amico' nan\n",
            " '10/01/2025']\n",
            "[nan 'Erri' 'Kate' 'Vitto, Donato, Luca' 'Giaguaro & amico' nan\n",
            " '10/01/2025']\n",
            "[nan 'Kate' 'Luca' 'Erri, Vitto, Donato' 'Gli altri' nan '10/01/2025']\n",
            "[nan 'Luca' 'Erri' 'Marc, Vitto, Massi' 'Giaguaro & amico' nan\n",
            " '13/01/2025']\n",
            "[nan 'Bond' 'Vitto' 'Marc, Erri, Massi' 'Gli altri' nan '13/01/2025']\n",
            "[nan 'Erri' 'Si è chiamato in mano' 'Bond, Vitto, Luca, Massi'\n",
            " 'Gli altri e il giaguaro si è chiamato in mano' nan '13/01/2025']\n",
            "[nan 'Marc' 'Vitto' 'Bond, Erri, Massi' 'Giaguaro & amico' nan\n",
            " '13/01/2025']\n",
            "[nan 'Bond' 'Ferro' 'Vitto, Donato, Marc' 'Gli altri' nan '15/01/2025']\n",
            "[nan 'Marc' 'Vitto' 'Ferro, Donato, Bond' 'Giaguaro & amico' nan\n",
            " '15/01/2025']\n",
            "[nan 'Vitto' 'Ferro' 'Donato, Marc, Bond' 'Gli altri' nan '15/01/2025']\n"
          ]
        }
      ]
    },
    {
      "cell_type": "code",
      "source": [
        "# Funzione 1\n",
        "def convert_record_partite(df):\n",
        "  # Creo una lista nella quale andranno i record delle partite\n",
        "  # ['07 gen W Donato Marc Ferro Luca Erri', '07 gen W Donato Bond Fer...\n",
        "  record_partite = []\n",
        "  # Parse dati da .csv a formato 'raw_data'\n",
        "  record = df.values\n",
        "  record = record[1:] # Elimino prima riga (nomi colonne)\n",
        "  for riga in record: # riga è un record così:\n",
        "    # ['15/01/2025 12.21.10' 'Donato' 'Kate' 'Ferro, Luca, Marc' 'Gli altri' 'marcello.bonomo.8@gmail.com' '08/01/2025']]\n",
        "    #  [0]  \t\t\t            [1] \t   [2] \t  [3] \t\t            [4] \t      [5]\t\t\t                      [6]\n",
        "    support_string = ''\n",
        "    giorno = riga[6].split('/')[0]\n",
        "    mese = riga[6].split('/')[1]\n",
        "    if mese == '01':\n",
        "      mese = 'gen'\n",
        "    elif mese == '02':\n",
        "      mese = 'feb'\n",
        "    elif mese == '03':\n",
        "      mese = 'mar'\n",
        "    elif mese == '04':\n",
        "      mese = 'apr'\n",
        "    elif mese == '05':\n",
        "      mese = 'mag'\n",
        "    elif mese == '06':\n",
        "      mese = 'giu'\n",
        "    elif mese == '07':\n",
        "      mese = 'lug'\n",
        "    elif mese == '08':\n",
        "      mese = 'ago'\n",
        "    elif mese == '09':\n",
        "      mese = 'set'\n",
        "    elif mese == '10':\n",
        "      mese = 'ott'\n",
        "    elif mese == '11':\n",
        "      mese = 'nov'\n",
        "    elif mese == '12':\n",
        "      mese = 'dic'\n",
        "    else:\n",
        "      print('Mese non trovato')\n",
        "    d_mes = f'{giorno} {mese}'\n",
        "    risultato_ = riga[4]\n",
        "    if risultato_ == 'Giaguaro & amico':\n",
        "      risultato = 'W'\n",
        "    elif risultato_ == 'Gli altri':\n",
        "      risultato = 'L'\n",
        "    elif risultato_ == 'Giaguaro chiamandosi +':\n",
        "      risultato = 'Wm'\n",
        "    elif risultato_ == 'Gli altri e il giaguaro si è chiamato in mano':\n",
        "      risultato = 'Lm'\n",
        "    else:\n",
        "      print('Risultato non trovato')\n",
        "\n",
        "    giaguaro = riga[1]\n",
        "    amico = riga[2]\n",
        "    giocatore3 = riga[3].split(', ')[0]\n",
        "    giocatore4 = riga[3].split(', ')[1]\n",
        "    giocatore5 = riga[3].split(', ')[2]\n",
        "    # Caso in cui il giaguaro si sia chiamato in mano, quindi casella alla\n",
        "    # terza colonna vuota\n",
        "    if riga[2] == 'Si è chiamato in mano':\n",
        "      giocatore6 = riga[3].split(', ')[3]\n",
        "    giocatori = []\n",
        "    giocatori.append(giaguaro)\n",
        "    # Nel caso in cui il giaguaro non chiama nessuno amico, in giocatori\n",
        "    # vanno 4 nomi: giocatore3 giocatore4 giocatore5 giocatore6\n",
        "    # anche se sarebbe più corretto chiamarli:\n",
        "    # giocatore2 giocatore3 giocatore4 giocatore5\n",
        "    if riga[2] != 'Si è chiamato in mano':\n",
        "      giocatori.append(amico)\n",
        "    giocatori.append(giocatore3)\n",
        "    giocatori.append(giocatore4)\n",
        "    giocatori.append(giocatore5)\n",
        "    if riga[2] == 'Si è chiamato in mano':\n",
        "      giocatori.append(giocatore6)\n",
        "    raw_data = []\n",
        "    raw_data.append(d_mes)\n",
        "    raw_data.append(risultato)\n",
        "    raw_data.append(giocatori)\n",
        "    record_partite.append((d_mes, risultato, giocatori))\n",
        "  return record_partite\n",
        "# Funzione 2\n",
        "def calcola_classifica(partite):\n",
        "  # Dizionario per i punteggi dei giocatori\n",
        "  punteggi = {}\n",
        "  # Calcolo dei punteggi\n",
        "  for d_mes, risultato, giocatori in partite:\n",
        "    if risultato == \"W\":\n",
        "      punteggi[giocatori[0]] = punteggi.get(giocatori[0], 0) + 2  # p1\n",
        "      punteggi[giocatori[1]] = punteggi.get(giocatori[1], 0) + 1  # p2\n",
        "      for p in giocatori[2:]:  # p3, p4, p5\n",
        "        punteggi[p] = punteggi.get(p, 0) - 1\n",
        "    if risultato == \"L\":\n",
        "      punteggi[giocatori[0]] = punteggi.get(giocatori[0], 0) - 2  # p1\n",
        "      punteggi[giocatori[1]] = punteggi.get(giocatori[1], 0) - 1  # p2\n",
        "      for p in giocatori[2:]:  # p3, p4, p5\n",
        "        punteggi[p] = punteggi.get(p, 0) + 1\n",
        "    if risultato == \"Wm\":\n",
        "      punteggi[giocatori[0]] = punteggi.get(giocatori[0], 0) + 4 # p1\n",
        "      for p in giocatori[1:]:  # p2, p3, p4, p5\n",
        "        punteggi[p] = punteggi.get(p, 0) - 1\n",
        "    if risultato == \"Lm\":\n",
        "      punteggi[giocatori[0]] = punteggi.get(giocatori[0], 0) - 4 # p1\n",
        "      for p in giocatori[1:]: # p2, p3, p4, p5\n",
        "        punteggi[p] = punteggi.get(p, 0) + 1\n",
        "    if risultato == \"Wv\":\n",
        "      punteggi[giocatori[0]] = punteggi.get(giocatori[0], 0) + 4  # p1\n",
        "      punteggi[giocatori[1]] = punteggi.get(giocatori[1], 0) + 2  # p2\n",
        "      for p in giocatori[2:]:  # p3, p4, p5\n",
        "        punteggi[p] = punteggi.get(p, 0) - 2\n",
        "    if risultato == \"Lv\":\n",
        "      punteggi[giocatori[0]] = punteggi.get(giocatori[0], 0) - 4  # p1\n",
        "      punteggi[giocatori[1]] = punteggi.get(giocatori[1], 0) - 2  # p2\n",
        "      for p in giocatori[2:]:  # p3, p4, p5\n",
        "        punteggi[p] = punteggi.get(p, 0) + 2\n",
        "    # Ordinamento della classifica\n",
        "  classifica = sorted(punteggi.items(), key=lambda x: x[1], reverse=True)\n",
        "  return punteggi, classifica\n",
        "\n",
        "# Fine funzioni #\n",
        "# - - - - - - - - - - - - - - - - - - - - - - - - - - - - - - - - - #\n",
        "\n",
        "# Conversione dati delle parite\n",
        "record_partite = convert_record_partite(df)\n",
        "#for i in record_partite:\n",
        "#  print(i)\n",
        "# Calcolo della classifica\n",
        "punteggi, classifica = calcola_classifica(record_partite)\n",
        "print(\"Classifica tradizionale:\")\n",
        "for giocatore, punteggio in classifica:\n",
        "  print(f\"{giocatore}: {punteggio}\")"
      ],
      "metadata": {
        "id": "LpXVbEmjtc4c",
        "colab": {
          "base_uri": "https://localhost:8080/"
        },
        "outputId": "cfa67760-ae03-4612-c79d-a5fe4b942c02"
      },
      "execution_count": 17,
      "outputs": [
        {
          "output_type": "stream",
          "name": "stdout",
          "text": [
            "Classifica tradizionale:\n",
            "Marc: 9\n",
            "Donato: 4\n",
            "Luca: 3\n",
            "Massi: 0\n",
            "Vitto: -1\n",
            "Ferro: -2\n",
            "Kate: -2\n",
            "Bond: -5\n",
            "Erri: -6\n"
          ]
        }
      ]
    }
  ]
}